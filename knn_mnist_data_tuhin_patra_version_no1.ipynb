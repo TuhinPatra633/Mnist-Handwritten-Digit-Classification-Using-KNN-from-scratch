{
 "cells": [
  {
   "cell_type": "code",
   "execution_count": 3,
   "id": "9b5bf43e",
   "metadata": {},
   "outputs": [],
   "source": [
    "\"\"\"\n",
    "-----------------------------------------------------------------------------\n",
    "MNIST digit data reading helper\n",
    "-----------------------------------------------------------------------------\n",
    "AUTHOR: Soumitra Samanta (soumitra.samanta@gm.rkmvu.ac.in)\n",
    "-----------------------------------------------------------------------------\n",
    "\"\"\"\n",
    "\n",
    "import gzip\n",
    "import numpy as np\n",
    "import matplotlib.pyplot as plt\n"
   ]
  },
  {
   "cell_type": "markdown",
   "id": "55c9e6c7",
   "metadata": {},
   "source": [
    "# Read MNIST data:\n",
    "There are many [ways](https://stackoverflow.com/questions/40427435/extract-images-from-idx3-ubyte-file-or-gzip-via-python) you can read the MNIST data. Here is a [way](https://stackoverflow.com/a/62781370) to read all the information."
   ]
  },
  {
   "cell_type": "code",
   "execution_count": 4,
   "id": "47ce6c3c",
   "metadata": {},
   "outputs": [
    {
     "name": "stdout",
     "output_type": "stream",
     "text": [
      "Train data (X) size: (60000, 28, 28), and labels (Y) size: (60000,)\n",
      "Test data (X) size: (10000, 28, 28), and labels (Y) size: (10000,)\n"
     ]
    },
    {
     "data": {
      "image/png": "[encoded data removed]",
      "text/plain": [
       "<Figure size 640x480 with 1 Axes>"
      ]
     },
     "metadata": {},
     "output_type": "display_data"
    },
    {
     "name": "stdout",
     "output_type": "stream",
     "text": [
      "Train image 25091-th sample \n",
      "[[  0   0   0   0   0   0   0   0   0   0   0   0   0   0   0   0   0   0\n",
      "    0   0   0   0   0   0   0   0   0   0]\n",
      " [  0   0   0   0   0   0   0   0   0   0   0   0   0   0   0   0   0   0\n",
      "    0   0   0   0   0   0   0   0   0   0]\n",
      " [  0   0   0   0   0   0   0   0   0   0   0   0   0   0   0   0   0   0\n",
      "    0   0   0   0   0   0   0   0   0   0]\n",
      " [  0   0   0   0   0   0   0   0   0   0   0   0   0   0   0   0   0   0\n",
      "    0   0   0   0   0   0   0   0   0   0]\n",
      " [  0   0   0   0   0   0   0   0   0   0   0   0   0   0   0   0   0   0\n",
      "    0   0   0   0   0   0   0   0   0   0]\n",
      " [  0   0   0   0  19 133 151 254 254 254 254 150 133 133  13   6   0   0\n",
      "    0   0   0   0   0   0   0   0   0   0]\n",
      " [  0   0   0   0 254 253 253 253 253 253 253 253 253 253 254 191 125   0\n",
      "    0   0   0   0   0   0   0   0   0   0]\n",
      " [  0   0   0   0 254 253 231 217 159 217 217 248 253 253 254 253 240  53\n",
      "    0   0   0   0   0   0   0   0   0   0]\n",
      " [  0   0   0   0 150 249  78   0   0   0   0  73  84  84 231 253 253  84\n",
      "    0   0   0   0   0   0   0   0   0   0]\n",
      " [  0   0   0   0   4  65   0   0   0   0   0   0   0   0 162 253 253  84\n",
      "    0   0   0   0   0   0   0   0   0   0]\n",
      " [  0   0   0   0   0   0   0   0   0   0   0   0   0 128 254 253 243  60\n",
      "    0   0   0   0   0   0   0   0   0   0]\n",
      " [  0   0   0   0   0   0   0   0   0   0   0   0 129 251 254 253 217   0\n",
      "    0   0   0   0   0   0   0   0   0   0]\n",
      " [  0   0   0   0   0   0   0   0   0  75  98 201 250 253 254 232  31   0\n",
      "    0   0   0   0   0   0   0   0   0   0]\n",
      " [  0   0   0   0   0   0  34 230 230 248 253 253 253 253 254 251 230 230\n",
      "  143  78   0   0   0   0   0   0   0   0]\n",
      " [  0   0   0   0   0   0 152 253 253 253 253 253 253 253 254 253 253 253\n",
      "  253 250 202  17   0   0   0   0   0   0]\n",
      " [  0   0   0   0   0   0  18 122 122  29   0   0   0   0   0  70 138 242\n",
      "  251 254 254 208  77   0   0   0   0   0]\n",
      " [  0   0   0   0   0   0   0   0   0   0   0   0   0   0   0   0   0   0\n",
      "   78 142 249 253 207   7   0   0   0   0]\n",
      " [  0   0   0   0   0   0   0   0   0   0   0   0   0   0   0   0   0   0\n",
      "    0   0 130 253 253  87   0   0   0   0]\n",
      " [  0   0   0   0   0   0   0   0   0   0   0   0   0   0   0   0   0   0\n",
      "    0   0 166 253 253  52   0   0   0   0]\n",
      " [  0   0   0   0   0   0   0   0   0   0   0   0   0   0   0   0   0   0\n",
      "    0  82 240 253 253  11   0   0   0   0]\n",
      " [  0   0   0   0   0   0   0  14  73  18   0   0   0   0   0   0   0  14\n",
      "  102 239 253 253 170   3   0   0   0   0]\n",
      " [  0   0   0   0   0   0   0  49 253 158   0   0   0   0   0   9 103 215\n",
      "  253 253 253 221  39   0   0   0   0   0]\n",
      " [  0   0   0   0   0   0   0  49 253 243 218 114  98  98 161 221 253 253\n",
      "  253 225 116  22   0   0   0   0   0   0]\n",
      " [  0   0   0   0   0   0   0   5 136 253 253 253 253 253 254 253 253 253\n",
      "  175  45   0   0   0   0   0   0   0   0]\n",
      " [  0   0   0   0   0   0   0   0   3  46 173 253 253 253 254 253 178 110\n",
      "    4   0   0   0   0   0   0   0   0   0]\n",
      " [  0   0   0   0   0   0   0   0   0   0   0   0   0   0   0   0   0   0\n",
      "    0   0   0   0   0   0   0   0   0   0]\n",
      " [  0   0   0   0   0   0   0   0   0   0   0   0   0   0   0   0   0   0\n",
      "    0   0   0   0   0   0   0   0   0   0]\n",
      " [  0   0   0   0   0   0   0   0   0   0   0   0   0   0   0   0   0   0\n",
      "    0   0   0   0   0   0   0   0   0   0]]\n"
     ]
    }
   ],
   "source": [
    "def read_images(filename):\n",
    "    \"\"\"Read MNIST images\"\"\"\n",
    "    \n",
    "    with gzip.open(filename, 'r') as f:\n",
    "        # first 4 bytes is a magic number\n",
    "        magic_number = int.from_bytes(f.read(4), 'big')\n",
    "        # second 4 bytes is the number of images\n",
    "        image_count = int.from_bytes(f.read(4), 'big')\n",
    "        # third 4 bytes is the row count\n",
    "        row_count = int.from_bytes(f.read(4), 'big')\n",
    "        # fourth 4 bytes is the column count\n",
    "        column_count = int.from_bytes(f.read(4), 'big')\n",
    "        # rest is the image pixel data, each pixel is stored as an unsigned byte\n",
    "        # pixel values are 0 to 255\n",
    "        image_data = f.read()\n",
    "        images = np.frombuffer(image_data, dtype=np.uint8).reshape((image_count, row_count, column_count))\n",
    "        \n",
    "    return images\n",
    "\n",
    "def read_labels(filename):\n",
    "    \"\"\"Read MNIST labels\"\"\"\n",
    "    \n",
    "    with gzip.open(filename, 'r') as f:\n",
    "        # first 4 bytes is a magic number\n",
    "        magic_number = int.from_bytes(f.read(4), 'big')\n",
    "        # second 4 bytes is the number of labels\n",
    "        label_count = int.from_bytes(f.read(4), 'big')\n",
    "        # rest is the label data, each label is stored as unsigned byte\n",
    "        # label values are 0 to 9\n",
    "        label_data = f.read()\n",
    "        labels = np.frombuffer(label_data, dtype=np.uint8)\n",
    "        \n",
    "    return labels\n",
    "\n",
    "\n",
    "dataset_path = \"/home/sysadm/ML_Assignment/\"# Change your data path\n",
    "\n",
    "train_image_filename = ''.join([dataset_path, 'train-images-idx3-ubyte.gz'])\n",
    "train_label_filename = ''.join([dataset_path, 'train-labels-idx1-ubyte.gz'])\n",
    "\n",
    "test_image_filename = ''.join([dataset_path, 't10k-images-idx3-ubyte.gz'])\n",
    "test_label_filename = ''.join([dataset_path, 't10k-labels-idx1-ubyte.gz'])\n",
    "\n",
    "train_images = read_images(train_image_filename)\n",
    "train_labels = read_labels(train_label_filename)\n",
    "print('Train data (X) size: {}, and labels (Y) size: {}' .format(train_images.shape, train_labels.shape))\n",
    "\n",
    "test_images = read_images(test_image_filename)\n",
    "test_labels = read_labels(test_label_filename)\n",
    "print('Test data (X) size: {}, and labels (Y) size: {}' .format(test_images.shape, test_labels.shape))\n",
    "\n",
    "rand_ids = np.random.choice(train_images.shape[0])\n",
    "plt.imshow(train_images[rand_ids, :, :], cmap='gray')\n",
    "plt.title('class-'+str(train_labels[rand_ids]))\n",
    "plt.show()\n",
    "\n",
    "print('Train image {}-th sample ' .format(rand_ids))\n",
    "print(train_images[rand_ids, :, :])\n",
    "\n"
   ]
  },
  {
   "cell_type": "markdown",
   "id": "54daa6a9",
   "metadata": {},
   "source": [
    "# Extract 20% data from thhe training data as a validation set. <font color='red'>Please do not use some standard function from scikit-learn or others!</font>"
   ]
  },
  {
   "cell_type": "code",
   "execution_count": 5,
   "id": "09a49711",
   "metadata": {},
   "outputs": [
    {
     "name": "stdout",
     "output_type": "stream",
     "text": [
      "Train data (X) size: (48000, 784), and labels (Y) size: (48000,)\n",
      "val data(X) size: (12000, 784), and labels (Y) size: (12000,)\n"
     ]
    }
   ],
   "source": [
    "train_images_flatten = train_images.flatten().reshape(60000,28*28).astype('float64') \n",
    "\n",
    "validation_size = int(len(train_images_flatten) * 0.2)\n",
    "\n",
    "x_val= train_images_flatten[:validation_size]\n",
    "y_val=train_labels[:validation_size]\n",
    "x_train= train_images_flatten[validation_size:]\n",
    "y_train=train_labels[validation_size:]\n",
    "print('Train data (X) size: {}, and labels (Y) size: {}' .format(x_train.shape, y_train.shape))\n",
    "print('val data(X) size: {}, and labels (Y) size: {}' .format(x_val.shape, y_val.shape))\n"
   ]
  },
  {
   "cell_type": "markdown",
   "id": "d7570a8f",
   "metadata": {},
   "source": [
    "# Implement k-NN classification rule/algorithm, we have discussed in our class. <font color='red'>Please do not use some standard function from scikit-learn or others!</font>"
   ]
  },
  {
   "cell_type": "code",
   "execution_count": 6,
   "id": "939686e0",
   "metadata": {},
   "outputs": [],
   "source": [
    "# Your k-NN algorithm script/code \n"
   ]
  },
  {
   "cell_type": "code",
   "execution_count": 9,
   "id": "dd1d66f7",
   "metadata": {},
   "outputs": [],
   "source": [
    "import numpy as np\n",
    "\n",
    "def euclidean_distance(x1, x2):\n",
    "    return np.sqrt(np.sum((x1 - x2) ** 2))\n",
    "\n",
    "def distance_(X_train, X_test):\n",
    "    distance_matrix = np.zeros((len(X_test), len(X_train)))\n",
    "    for i, test_point in enumerate(X_test):\n",
    "        distances = np.sqrt(np.sum((X_train - test_point) ** 2, axis=1))\n",
    "        distance_matrix[i] = distances\n",
    "    return distance_matrix\n",
    "\n",
    "def predict(Y_train, k, distance_matrix):\n",
    "    predictions = []\n",
    "    for distances in distance_matrix:\n",
    "        k_indices = np.argsort(distances)[:k]\n",
    "        k_nearest_labels = [Y_train[j] for j in k_indices]\n",
    "        label_counts = np.bincount(k_nearest_labels)\n",
    "        prediction = np.argmax(label_counts)\n",
    "        predictions.append(prediction)\n",
    "    return predictions\n",
    "\n",
    "a=distance_(x_train,x_val)\n",
    "\n",
    "accuracy_euclidian=[]\n",
    "for k in range(1,26,2):\n",
    "    result=predict(y_train,k,a)\n",
    "    acc=np.mean(result==y_val)\n",
    "    accuracy_euclidian.append(acc)\n"
   ]
  },
  {
   "cell_type": "code",
   "execution_count": 10,
   "id": "bf7345ea",
   "metadata": {},
   "outputs": [
    {
     "data": {
      "text/plain": [
       "[0.97,\n",
       " 0.97175,\n",
       " 0.96975,\n",
       " 0.9680833333333333,\n",
       " 0.9655833333333333,\n",
       " 0.9646666666666667,\n",
       " 0.9635833333333333,\n",
       " 0.962,\n",
       " 0.9608333333333333,\n",
       " 0.9596666666666667,\n",
       " 0.9591666666666666,\n",
       " 0.9584166666666667,\n",
       " 0.9565833333333333]"
      ]
     },
     "execution_count": 10,
     "metadata": {},
     "output_type": "execute_result"
    }
   ],
   "source": [
    "accuracy_euclidian"
   ]
  },
  {
   "cell_type": "code",
   "execution_count": 11,
   "id": "82dfc013",
   "metadata": {},
   "outputs": [],
   "source": [
    "import numpy as np\n",
    "\n",
    "\n",
    "def distance_m(X_train, X_test):\n",
    "    distance_matrix_m= np.zeros((len(X_test), len(X_train)))\n",
    "    for i, test_point in enumerate(X_test):\n",
    "        distances = np.sum(np.abs(X_train - test_point), axis=1)\n",
    "        distance_matrix_m[i] = distances\n",
    "    return distance_matrix_m\n",
    "\n",
    "def predict(Y_train, k, distance_matrix):\n",
    "    predictions = []\n",
    "    for distances in distance_matrix:\n",
    "        k_indices = np.argsort(distances)[:k]\n",
    "        k_nearest_labels = [Y_train[j] for j in k_indices]\n",
    "        label_counts = np.bincount(k_nearest_labels)\n",
    "        prediction = np.argmax(label_counts)\n",
    "        predictions.append(prediction)\n",
    "    return predictions\n",
    "\n",
    "a=distance_m(x_train,x_val)\n",
    "\n",
    "accuracy_manhattan=[]\n",
    "for k in range(1,26,2):\n",
    "    result=predict(y_train,k,a)\n",
    "    acc=np.mean(result==y_val)\n",
    "    accuracy_manhattan.append(acc)\n"
   ]
  },
  {
   "cell_type": "code",
   "execution_count": 12,
   "id": "993cc84e",
   "metadata": {},
   "outputs": [
    {
     "data": {
      "text/plain": [
       "[0.963,\n",
       " 0.96475,\n",
       " 0.9635,\n",
       " 0.9625,\n",
       " 0.9596666666666667,\n",
       " 0.957,\n",
       " 0.9565,\n",
       " 0.95525,\n",
       " 0.9545,\n",
       " 0.95175,\n",
       " 0.9511666666666667,\n",
       " 0.9503333333333334,\n",
       " 0.9485]"
      ]
     },
     "execution_count": 12,
     "metadata": {},
     "output_type": "execute_result"
    }
   ],
   "source": [
    "accuracy_manhattan"
   ]
  },
  {
   "cell_type": "code",
   "execution_count": 6,
   "id": "170f8029",
   "metadata": {},
   "outputs": [],
   "source": [
    "import numpy as np\n",
    "\n",
    "#chebyshev\n",
    "\n",
    "def distance_c(X_train, X_test):\n",
    "    distance_matrix_c= np.zeros((len(X_test), len(X_train)))\n",
    "    for i, test_point in enumerate(X_test):\n",
    "        distances = np.max(np.abs(X_train - test_point), axis=1)\n",
    "        distance_matrix_c[i] = distances\n",
    "    return distance_matrix_c\n",
    "\n",
    "def predict(Y_train, k, distance_matrix):\n",
    "    predictions = []\n",
    "    for distances in distance_matrix:\n",
    "        k_indices = np.argsort(distances)[:k]\n",
    "        k_nearest_labels = [Y_train[j] for j in k_indices]\n",
    "        label_counts = np.bincount(k_nearest_labels)\n",
    "        prediction = np.argmax(label_counts)\n",
    "        predictions.append(prediction)\n",
    "    return predictions\n",
    "\n",
    "a=distance_c(x_train,x_val)\n",
    "\n",
    "accuracy_chebyshev=[]\n",
    "for k in range(1,26,2):\n",
    "    result=predict(y_train,k,a)\n",
    "    acc=np.mean(result==y_val)\n",
    "    accuracy_chebyshev.append(acc)\n"
   ]
  },
  {
   "cell_type": "code",
   "execution_count": 7,
   "id": "9318ad04",
   "metadata": {},
   "outputs": [
    {
     "data": {
      "text/plain": [
       "[0.81375,\n",
       " 0.7978333333333333,\n",
       " 0.8035833333333333,\n",
       " 0.7975,\n",
       " 0.7913333333333333,\n",
       " 0.79125,\n",
       " 0.7889166666666667,\n",
       " 0.7894166666666667,\n",
       " 0.7879166666666667,\n",
       " 0.7819166666666667,\n",
       " 0.7793333333333333,\n",
       " 0.7770833333333333,\n",
       " 0.7760833333333333]"
      ]
     },
     "execution_count": 7,
     "metadata": {},
     "output_type": "execute_result"
    }
   ],
   "source": [
    "accuracy_chebyshev"
   ]
  },
  {
   "cell_type": "code",
   "execution_count": 13,
   "id": "c1cb1eae",
   "metadata": {},
   "outputs": [
    {
     "data": {
      "image/png": "[encoded data removed]",
      "text/plain": [
       "<Figure size 640x480 with 1 Axes>"
      ]
     },
     "metadata": {},
     "output_type": "display_data"
    }
   ],
   "source": [
    "import numpy as np\n",
    "import matplotlib.pyplot as plt\n",
    "from mpl_toolkits.mplot3d import Axes3D\n",
    "p_values = [1, 2, np.inf]\n",
    "k_values = [i for i in range(1,26,2)]\n",
    "acc_values = [accuracy_manhattan,accuracy_euclidian,accuracy_chebyshev]\n",
    "fig = plt.figure()\n",
    "ax = fig.add_subplot(111, projection='3d')\n",
    "\n",
    "ax.plot(k_values, [1]*len(k_values), accuracy_manhattan, color='r', marker='o', label='p=1')\n",
    "ax.plot(k_values, [2]*len(k_values), accuracy_euclidian, color='g', marker='^', label='p=2')\n",
    "ax.plot(k_values, [3]*len(k_values), accuracy_chebyshev, color='b', marker='s', label='p=inf')\n",
    "\n",
    "ax.set_xlabel('k')\n",
    "ax.set_ylabel('p')\n",
    "ax.set_zlabel('Accuracy')\n",
    "ax.set_title('3D Line Plot of Accuracy')\n",
    "\n",
    "ax.set_yticks([1, 2, 3])\n",
    "ax.set_yticklabels(['1', '2', 'inf'])\n",
    "\n",
    "ax.legend()\n",
    "\n",
    "plt.show()\n",
    "\n"
   ]
  },
  {
   "cell_type": "code",
   "execution_count": 14,
   "id": "be05f034",
   "metadata": {},
   "outputs": [
    {
     "name": "stdout",
     "output_type": "stream",
     "text": [
      "0.9687\n"
     ]
    }
   ],
   "source": [
    "test_images_flatten = test_images.flatten().reshape(10000,28*28).astype('float64') \n",
    "\n",
    "def distance_(X_train, X_test):\n",
    "    distance_matrix = np.zeros((len(X_test), len(X_train)))\n",
    "    for i, test_point in enumerate(X_test):\n",
    "        distances = np.sqrt(np.sum((X_train - test_point) ** 2, axis=1))\n",
    "        distance_matrix[i] = distances\n",
    "    return distance_matrix\n",
    "\n",
    "def predict(Y_train, k, distance_matrix):\n",
    "    predictions = []\n",
    "    for distances in distance_matrix:\n",
    "        k_indices = np.argsort(distances)[:k]\n",
    "        k_nearest_labels = [Y_train[j] for j in k_indices]\n",
    "        label_counts = np.bincount(k_nearest_labels)\n",
    "        prediction = np.argmax(label_counts)\n",
    "        predictions.append(prediction)\n",
    "    return predictions\n",
    "\n",
    "x=distance_(x_train,test_images_flatten)\n",
    "\n",
    "\n",
    "result=predict(y_train,3,x)\n",
    "acc_final=np.mean(result==test_labels)\n",
    "print(acc_final)"
   ]
  },
  {
   "cell_type": "code",
   "execution_count": null,
   "metadata": {},
   "outputs": [],
   "source": []
  }
 ],
 "metadata": {
  "kernelspec": {
   "display_name": "Python 3 (ipykernel)",
   "language": "python",
   "name": "python3"
  },
  "language_info": {
   "codemirror_mode": {
    "name": "ipython",
    "version": 3
   },
   "file_extension": ".py",
   "mimetype": "text/x-python",
   "name": "python",
   "nbconvert_exporter": "python",
   "pygments_lexer": "ipython3",
   "version": "3.10.12"
  }
 },
 "nbformat": 4,
 "nbformat_minor": 5
}
